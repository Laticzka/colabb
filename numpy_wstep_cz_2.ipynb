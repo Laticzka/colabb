{
  "nbformat": 4,
  "nbformat_minor": 0,
  "metadata": {
    "colab": {
      "provenance": [],
      "authorship_tag": "ABX9TyMJym3jVpEf/mTPeiIKr3fK",
      "include_colab_link": true
    },
    "kernelspec": {
      "name": "python3",
      "display_name": "Python 3"
    },
    "language_info": {
      "name": "python"
    }
  },
  "cells": [
    {
      "cell_type": "markdown",
      "metadata": {
        "id": "view-in-github",
        "colab_type": "text"
      },
      "source": [
        "<a href=\"https://colab.research.google.com/github/Laticzka/colabb/blob/main/numpy_wstep_cz_2.ipynb\" target=\"_parent\"><img src=\"https://colab.research.google.com/assets/colab-badge.svg\" alt=\"Open In Colab\"/></a>"
      ]
    },
    {
      "cell_type": "code",
      "execution_count": null,
      "metadata": {
        "id": "WCFJ339vAhw-"
      },
      "outputs": [],
      "source": [
        "import numpy as np"
      ]
    },
    {
      "cell_type": "code",
      "source": [
        "dir(np)"
      ],
      "metadata": {
        "id": "Il5Lgfe3B0IR"
      },
      "execution_count": null,
      "outputs": []
    },
    {
      "cell_type": "code",
      "source": [
        "help(np)"
      ],
      "metadata": {
        "id": "XaSU0FB6B1aJ"
      },
      "execution_count": null,
      "outputs": []
    },
    {
      "cell_type": "code",
      "source": [
        "lista = [3, -1, 8, 9, 2, 7, 11]\n",
        "tab1D_1 = np.array(lista)\n",
        "tab1D_1"
      ],
      "metadata": {
        "colab": {
          "base_uri": "https://localhost:8080/"
        },
        "id": "PZ6QfVe3B1mj",
        "outputId": "ca6d2850-4d39-47ab-ca4d-aceed3be0e5a"
      },
      "execution_count": null,
      "outputs": [
        {
          "output_type": "execute_result",
          "data": {
            "text/plain": [
              "array([ 3, -1,  8,  9,  2,  7, 11])"
            ]
          },
          "metadata": {},
          "execution_count": 6
        }
      ]
    },
    {
      "cell_type": "code",
      "source": [
        "print(2 * lista)"
      ],
      "metadata": {
        "colab": {
          "base_uri": "https://localhost:8080/"
        },
        "id": "oMtcjJyWB13F",
        "outputId": "5fdcb7e4-22cc-42bc-a16b-a532cddf8af3"
      },
      "execution_count": null,
      "outputs": [
        {
          "output_type": "stream",
          "name": "stdout",
          "text": [
            "[3, -1, 8, 9, 2, 7, 11, 3, -1, 8, 9, 2, 7, 11]\n"
          ]
        }
      ]
    },
    {
      "cell_type": "code",
      "source": [
        "print(2 * tab1D_1)"
      ],
      "metadata": {
        "colab": {
          "base_uri": "https://localhost:8080/"
        },
        "id": "7bOXVfBWB2A1",
        "outputId": "194ec7f8-0671-4780-933f-c8ed575474d9"
      },
      "execution_count": null,
      "outputs": [
        {
          "output_type": "stream",
          "name": "stdout",
          "text": [
            "[ 6 -2 16 18  4 14 22]\n"
          ]
        }
      ]
    },
    {
      "cell_type": "markdown",
      "source": [
        "Wyświetlamy parametry tablicy - liczba wymiarów (czyli 2d, 3d itd.), kształt, rozmiar(liczba elementów), typ"
      ],
      "metadata": {
        "id": "a3VRD8_8EJA_"
      }
    },
    {
      "cell_type": "code",
      "source": [
        "print(tab1D_1.ndim) #nie trzeba używać printów\n",
        "print(tab1D_1.shape)\n",
        "print(tab1D_1.size)\n",
        "print(tab1D_1.dtype)\n",
        "type(tab1D_1)"
      ],
      "metadata": {
        "colab": {
          "base_uri": "https://localhost:8080/"
        },
        "id": "-qT9k6ZOB2cq",
        "outputId": "993b2e08-e406-47c1-a762-0c645fe7a2af"
      },
      "execution_count": null,
      "outputs": [
        {
          "output_type": "stream",
          "name": "stdout",
          "text": [
            "1\n",
            "(7,)\n",
            "7\n",
            "int64\n",
            "int64\n"
          ]
        }
      ]
    },
    {
      "cell_type": "code",
      "source": [
        "tab1D_2 = np.array([3, -1, 8, 9, 2, 7, 11], type = \"float64\")"
      ],
      "metadata": {
        "id": "I1Df7prVB2jc"
      },
      "execution_count": null,
      "outputs": []
    },
    {
      "cell_type": "markdown",
      "source": [
        "TWORZENIE TABLICY 2D"
      ],
      "metadata": {
        "id": "updStkjWGas7"
      }
    },
    {
      "cell_type": "code",
      "source": [
        "tab2D = np.array([[1, 4, 7], [2, 8, 1]])\n",
        "tab2D"
      ],
      "metadata": {
        "colab": {
          "base_uri": "https://localhost:8080/"
        },
        "id": "MgkVzEkAB2ze",
        "outputId": "ea459fa9-c672-4496-8dc7-06bad915eb1e"
      },
      "execution_count": null,
      "outputs": [
        {
          "output_type": "execute_result",
          "data": {
            "text/plain": [
              "array([[1, 4, 7],\n",
              "       [2, 8, 1]])"
            ]
          },
          "metadata": {},
          "execution_count": 13
        }
      ]
    },
    {
      "cell_type": "code",
      "source": [
        "lista3D = []\n",
        "for i in range(3):\n",
        "  for w in range(2):\n",
        "    for j in range():\n",
        "tab3D = np.array([])"
      ],
      "metadata": {
        "id": "93ZZqV6YB1uP"
      },
      "execution_count": null,
      "outputs": []
    },
    {
      "cell_type": "code",
      "source": [],
      "metadata": {
        "id": "xsFMMl18BudT"
      },
      "execution_count": null,
      "outputs": []
    }
  ]
}